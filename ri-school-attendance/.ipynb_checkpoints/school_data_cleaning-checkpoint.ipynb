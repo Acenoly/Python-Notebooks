{
 "cells": [
  {
   "cell_type": "code",
   "execution_count": 1,
   "metadata": {},
   "outputs": [],
   "source": [
    "import pandas as pd\n",
    "import numpy as np\n",
    "import functions\n",
    "import glob\n",
    "import csv"
   ]
  },
  {
   "cell_type": "code",
   "execution_count": 2,
   "metadata": {},
   "outputs": [],
   "source": [
    "# created functions\n",
    "bin_date = functions.bin_date\n",
    "\n",
    "# creating region dict\n",
    "region_map = dict(csv.reader(open(\"./files/region_map.csv\")))"
   ]
  },
  {
   "cell_type": "code",
   "execution_count": 3,
   "metadata": {},
   "outputs": [],
   "source": [
    "# filepath of all individual date csvs\n",
    "files = glob.glob('./data/raw/*.csv')\n",
    "\n",
    "# combining files into 1 large df\n",
    "frames = []\n",
    "for f in files:\n",
    "    df = pd.read_csv(f)\n",
    "    frames.append(df)\n",
    "df = pd.concat(frames)\n",
    "\n",
    "# replacing \"NR\" (not reported) with nulls\n",
    "df = df.replace('NR', np.nan)\n",
    "\n",
    "# convert types\n",
    "df['Enrollment'] = df['Enrollment'].astype(float)\n",
    "df['Absent'] = df['Absent'].astype(float)\n",
    "df['PercentageAbsent'] = df['PercentageAbsent'].astype(float)\n",
    "\n",
    "# convert to datetime\n",
    "df['AttendanceDate'] = pd.to_datetime(df['AttendanceDate'])\n",
    "\n",
    "# setting school year dates\n",
    "df['school_year'] = df.AttendanceDate.apply(bin_date)\n",
    "\n",
    "# converting percent\n",
    "df['PercentageAbsent'] = df['PercentageAbsent']/100\n",
    "\n",
    "# setting region codes\n",
    "df['region'] = df.LEA_NAME.map(region_map)\n",
    "\n",
    "# save output\n",
    "df.to_csv('./data/clean/attendance_clean.csv', index=False)"
   ]
  }
 ],
 "metadata": {
  "kernelspec": {
   "display_name": "Python 3",
   "language": "python",
   "name": "python3"
  },
  "language_info": {
   "codemirror_mode": {
    "name": "ipython",
    "version": 3
   },
   "file_extension": ".py",
   "mimetype": "text/x-python",
   "name": "python",
   "nbconvert_exporter": "python",
   "pygments_lexer": "ipython3",
   "version": "3.6.5"
  }
 },
 "nbformat": 4,
 "nbformat_minor": 2
}
