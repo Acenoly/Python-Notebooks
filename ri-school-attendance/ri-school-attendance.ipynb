{
 "cells": [
  {
   "cell_type": "markdown",
   "metadata": {},
   "source": [
    "Created by [SmirkyGraphs](https://smirkygraphs.github.io/). Code: [Github](https://github.com/SmirkyGraphs/Python-Notebooks). Source: [RIDE](https://www.eride.ri.gov/eride2K5/AggregateAttendance/AttendanceReports.aspx)."
   ]
  },
  {
   "cell_type": "markdown",
   "metadata": {},
   "source": [
    "## Collecting and Cleaning School Attendance Data"
   ]
  },
  {
   "cell_type": "markdown",
   "metadata": {},
   "source": [
    "Using Selenium to collect data on attendance of webapp and cleaning with pandas\n",
    "<hr>"
   ]
  },
  {
   "cell_type": "markdown",
   "metadata": {},
   "source": [
    "## Data Collection"
   ]
  },
  {
   "cell_type": "code",
   "execution_count": 1,
   "metadata": {},
   "outputs": [],
   "source": [
    "import time\n",
    "from datetime import date\n",
    "from selenium import webdriver"
   ]
  },
  {
   "cell_type": "code",
   "execution_count": 2,
   "metadata": {
    "scrolled": true
   },
   "outputs": [],
   "source": [
    "# launching browser\n",
    "options = webdriver.ChromeOptions() \n",
    "prefs = {'download.default_directory' : 'D:/Downloads/RI Attendance'}\n",
    "options.add_experimental_option('prefs', prefs)\n",
    "\n",
    "browser = webdriver.Chrome('', options=options)\n",
    "browser.get('https://www.eride.ri.gov/eride2K5/AggregateAttendance/AttendanceReports.aspx')\n",
    "\n",
    "# get length in months between start & end\n",
    "#start_date = date(2008, 9, 3)\n",
    "end_date = date.today()\n",
    "\n",
    "len_month = abs((start_date.year - end_date.year) * 12 + start_date.month - end_date.month) + 1\n",
    "\n",
    "# creating the loop for each month getting all schooldays\n",
    "for i in range(len_month):\n",
    "    \n",
    "    # button to click to go to previous month\n",
    "    prev_btn = '#calDateSelection > tbody > tr:nth-child(1) > td > table > tbody > tr > td:nth-child(1) > a'\n",
    "    prev_month = browser.find_element_by_css_selector(prev_btn)\n",
    "    \n",
    "    # loop for each file to download\n",
    "    for ele in browser.find_elements_by_xpath(\"//input[contains(@id,'_imgBtnXls')]\"):\n",
    "\n",
    "        # click button to download file\n",
    "        ele.click()\n",
    "        \n",
    "        # wait 2 seconds\n",
    "        time.sleep(2)\n",
    "        \n",
    "    # after loop move to next month and wait 5 seconds\n",
    "    prev_month.click()\n",
    "    time.sleep(5)"
   ]
  },
  {
   "cell_type": "markdown",
   "metadata": {},
   "source": [
    "## Data Cleaning"
   ]
  },
  {
   "cell_type": "code",
   "execution_count": 3,
   "metadata": {},
   "outputs": [],
   "source": [
    "import pandas as pd\n",
    "import numpy as np\n",
    "import functions\n",
    "import glob\n",
    "import csv"
   ]
  },
  {
   "cell_type": "code",
   "execution_count": 4,
   "metadata": {},
   "outputs": [],
   "source": [
    "# created functions\n",
    "bin_date = functions.bin_date\n",
    "\n",
    "# creating region dict\n",
    "region_map = dict(csv.reader(open(\"./files/region_map.csv\")))"
   ]
  },
  {
   "cell_type": "code",
   "execution_count": 5,
   "metadata": {},
   "outputs": [],
   "source": [
    "# filepath of all individual date csvs\n",
    "files = glob.glob('./data/raw/*.csv')\n",
    "\n",
    "# combining files into 1 large df\n",
    "frames = []\n",
    "for f in files:\n",
    "    df = pd.read_csv(f)\n",
    "    frames.append(df)\n",
    "df = pd.concat(frames)\n",
    "\n",
    "# replacing \"NR\" (not reported) with nulls\n",
    "df = df.replace('NR', np.nan)\n",
    "\n",
    "# convert types\n",
    "df['Enrollment'] = df['Enrollment'].astype(float)\n",
    "df['Absent'] = df['Absent'].astype(float)\n",
    "df['PercentageAbsent'] = df['PercentageAbsent'].astype(float)\n",
    "\n",
    "# convert to datetime\n",
    "df['AttendanceDate'] = pd.to_datetime(df['AttendanceDate'])\n",
    "\n",
    "# setting school year dates\n",
    "df['school_year'] = df.AttendanceDate.apply(bin_date)\n",
    "\n",
    "# converting percent\n",
    "df['PercentageAbsent'] = df['PercentageAbsent']/100\n",
    "\n",
    "# setting region codes\n",
    "df['region'] = df.LEA_NAME.map(region_map)\n",
    "\n",
    "# save output\n",
    "df.to_csv('./data/clean/attendance_clean.csv', index=False)"
   ]
  }
 ],
 "metadata": {
  "kernelspec": {
   "display_name": "Python 3",
   "language": "python",
   "name": "python3"
  },
  "language_info": {
   "codemirror_mode": {
    "name": "ipython",
    "version": 3
   },
   "file_extension": ".py",
   "mimetype": "text/x-python",
   "name": "python",
   "nbconvert_exporter": "python",
   "pygments_lexer": "ipython3",
   "version": "3.6.5"
  }
 },
 "nbformat": 4,
 "nbformat_minor": 2
}
