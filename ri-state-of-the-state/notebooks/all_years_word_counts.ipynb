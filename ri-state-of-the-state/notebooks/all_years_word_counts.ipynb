{
 "cells": [
  {
   "cell_type": "code",
   "execution_count": 91,
   "metadata": {},
   "outputs": [],
   "source": [
    "import pandas as pd\n",
    "import glob as glob\n",
    "\n",
    "from nltk.corpus import stopwords"
   ]
  },
  {
   "cell_type": "code",
   "execution_count": 92,
   "metadata": {},
   "outputs": [],
   "source": [
    "files = glob.glob('../output/**/*word_count.csv')\n",
    "\n",
    "stop = stopwords.words('english')\n",
    "\n",
    "stop.append('rhode')\n",
    "stop.append('island')\n",
    "stop.append('islander')\n",
    "stop.append('islanders')"
   ]
  },
  {
   "cell_type": "code",
   "execution_count": 93,
   "metadata": {},
   "outputs": [],
   "source": [
    "combined = []\n",
    "\n",
    "for file in files:\n",
    "    df = pd.read_csv(file)\n",
    "    df = df.drop(columns=['Unnamed: 0', 'POSTags'])\n",
    "    df['year'] = str(file)[21:25]\n",
    "    combined.append(df)\n",
    "    \n",
    "df = pd.concat(combined)\n",
    "df = df.pivot(index='words', columns='year', values='count')\n",
    "\n",
    "df = df.fillna(0)\n",
    "\n",
    "# year differences\n",
    "\n",
    "df['2017-2018_dif'] = df['2018']-df['2017']\n",
    "df['2018-2019_dif'] = df['2019']-df['2018']"
   ]
  },
  {
   "cell_type": "code",
   "execution_count": 94,
   "metadata": {},
   "outputs": [],
   "source": [
    "# adding stopwods\n",
    "\n",
    "for i, row in df.iterrows():\n",
    "    \n",
    "    if i in stop:\n",
    "        df.at[i,'Stopword'] = 'Stopword'    \n",
    "        \n",
    "    else:\n",
    "        df.at[i,'Stopword'] = 'Not Stopword'   "
   ]
  },
  {
   "cell_type": "code",
   "execution_count": 95,
   "metadata": {},
   "outputs": [],
   "source": [
    "# adding categories\n",
    "\n",
    "categories = {}\n",
    "\n",
    "files = glob.glob('../files/lists/*.txt')\n",
    "\n",
    "for f in files:\n",
    "    \n",
    "    cat = f[15:-4]\n",
    "    \n",
    "    categories[cat] = [line.rstrip() for line in open(f)]\n",
    "    \n",
    "economy = categories['economy']\n",
    "education = categories['education']\n",
    "family_kids = categories['family-kids']\n",
    "health = categories['health']\n",
    "jobs = categories['jobs']\n",
    "politics = categories['politics']\n",
    "self = categories['self']\n",
    "veterans = categories['veterans']\n",
    "\n",
    "for i, row in df.iterrows():\n",
    "    \n",
    "    if i in economy:\n",
    "        df.at[i,'Category'] = 'economy'    \n",
    "        \n",
    "    elif i in education:\n",
    "        df.at[i,'Category'] = 'education' \n",
    "        \n",
    "    elif i in family_kids:\n",
    "        df.at[i,'Category'] = 'family_kids' \n",
    "        \n",
    "    elif i in health:\n",
    "        df.at[i,'Category'] = 'health' \n",
    "        \n",
    "    elif i in jobs:\n",
    "        df.at[i,'Category'] = 'jobs' \n",
    "        \n",
    "    elif i in politics:\n",
    "        df.at[i,'Category'] = 'politics' \n",
    "        \n",
    "    elif i in self:\n",
    "        df.at[i,'Category'] = 'self' \n",
    "        \n",
    "    elif i in veterans:\n",
    "        df.at[i,'Category'] = 'veterans' \n",
    "        \n",
    "    else:\n",
    "        df.at[i,'Category'] = 'no category'"
   ]
  },
  {
   "cell_type": "code",
   "execution_count": 96,
   "metadata": {},
   "outputs": [],
   "source": [
    "df.to_csv('../output/word_counts_combined.csv')"
   ]
  }
 ],
 "metadata": {
  "kernelspec": {
   "display_name": "Python 3",
   "language": "python",
   "name": "python3"
  },
  "language_info": {
   "codemirror_mode": {
    "name": "ipython",
    "version": 3
   },
   "file_extension": ".py",
   "mimetype": "text/x-python",
   "name": "python",
   "nbconvert_exporter": "python",
   "pygments_lexer": "ipython3",
   "version": "3.6.5"
  }
 },
 "nbformat": 4,
 "nbformat_minor": 2
}
