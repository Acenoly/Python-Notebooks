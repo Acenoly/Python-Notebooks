{
 "cells": [
  {
   "cell_type": "markdown",
   "metadata": {},
   "source": [
    "Created by: [SmirkyGraphs](https://smirkygraphs.github.io/). Code: [GitHub](https://github.com/SmirkyGraphs/Python-Notebooks). Source: [ri.gov](http://www.governor.ri.gov/newsroom/speeches/index.php).\n",
    "<hr>"
   ]
  },
  {
   "cell_type": "markdown",
   "metadata": {},
   "source": [
    "## State of the State Word Scrape"
   ]
  },
  {
   "cell_type": "code",
   "execution_count": 88,
   "metadata": {},
   "outputs": [],
   "source": [
    "import glob\n",
    "import pandas as pd\n",
    "import numpy as np\n",
    "\n",
    "from nltk import word_tokenize, pos_tag, pos_tag_sents"
   ]
  },
  {
   "cell_type": "code",
   "execution_count": 55,
   "metadata": {},
   "outputs": [],
   "source": [
    "files = glob.glob('../input/*.txt')\n",
    "\n",
    "# getting all words in each speech\n",
    "\n",
    "for file in files:\n",
    "\n",
    "    speech = open(file)\n",
    "    year = file[9:13]\n",
    "    wds = {}\n",
    "    \n",
    "    for line in speech:\n",
    "        \n",
    "        line = line.replace('.','')\n",
    "        line = line.replace(',','')\n",
    "        line = line.replace('\"','')\n",
    "        line = line.replace(';','')\n",
    "        line = line.replace('“','')\n",
    "        line = line.replace(':','')\n",
    "        line = line.replace('(','')\n",
    "        line = line.replace(')','')\n",
    "        line = line.replace('0','')\n",
    "        line = line.replace('1','')\n",
    "        line = line.replace('2','')\n",
    "        line = line.replace('3','')\n",
    "        line = line.replace('4','')\n",
    "        line = line.replace('5','')\n",
    "        line = line.replace('6','')\n",
    "        line = line.replace('7','')\n",
    "        line = line.replace('8','')\n",
    "        line = line.replace('9','')\n",
    "        line = line.replace('–','')\n",
    "        line = line.replace('#','')\n",
    "        line = line.replace('”','')\n",
    "        line = line.replace('-','')\n",
    "        line = line.replace('$','')\n",
    "        line = line.replace(\"’\",\"'\")\n",
    "        line = line.replace(\"s'\",'')\n",
    "        line = line.replace(\"'s\",'')\n",
    "        line = line.rstrip().lower()\n",
    "        words = line.split()\n",
    "        \n",
    "        for w in words:\n",
    "            \n",
    "            wds[w] = wds.get(w,0) + 1\n",
    "\n",
    "    # Creating a csv\n",
    "\n",
    "    df = pd.DataFrame(list(wds.items()))\n",
    "    \n",
    "    df.columns = ['words', 'count']\n",
    "    df['POSTags'] = pos_tag_sents(df['words'].apply(word_tokenize).tolist())\n",
    "\n",
    "    df.to_csv('../output/word_count/' + year + '_word_count.csv')\n"
   ]
  }
 ],
 "metadata": {
  "kernelspec": {
   "display_name": "Python 3",
   "language": "python",
   "name": "python3"
  },
  "language_info": {
   "codemirror_mode": {
    "name": "ipython",
    "version": 3
   },
   "file_extension": ".py",
   "mimetype": "text/x-python",
   "name": "python",
   "nbconvert_exporter": "python",
   "pygments_lexer": "ipython3",
   "version": "3.6.5"
  }
 },
 "nbformat": 4,
 "nbformat_minor": 2
}
